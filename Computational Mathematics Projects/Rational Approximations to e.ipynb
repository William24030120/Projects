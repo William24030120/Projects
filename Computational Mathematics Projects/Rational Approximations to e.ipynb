{
 "cells": [
  {
   "cell_type": "code",
   "execution_count": 46,
   "metadata": {},
   "outputs": [],
   "source": [
    "from math import exp\n",
    "from math import factorial\n",
    "from math import pi\n",
    "import matplotlib as plt"
   ]
  },
  {
   "cell_type": "code",
   "execution_count": 5,
   "metadata": {},
   "outputs": [
    {
     "data": {
      "text/plain": [
       "2.718281828459045"
      ]
     },
     "execution_count": 5,
     "metadata": {},
     "output_type": "execute_result"
    }
   ],
   "source": [
    "exp(1)"
   ]
  },
  {
   "cell_type": "code",
   "execution_count": 6,
   "metadata": {},
   "outputs": [],
   "source": [
    "def exp_taylor(x, n):\n",
    "    exp_approx = 0\n",
    "    for i in range(n):\n",
    "        exp_approx += x ** i / factorial(i)\n",
    "    return exp_approx"
   ]
  },
  {
   "cell_type": "code",
   "execution_count": 7,
   "metadata": {},
   "outputs": [],
   "source": [
    "def accuracy(x):\n",
    "    n = 0\n",
    "    while exp(x)>exp_taylor(x,n):\n",
    "        n+=1\n",
    "    return n"
   ]
  },
  {
   "cell_type": "code",
   "execution_count": 8,
   "metadata": {},
   "outputs": [
    {
     "data": {
      "text/plain": [
       "18"
      ]
     },
     "execution_count": 8,
     "metadata": {},
     "output_type": "execute_result"
    }
   ],
   "source": [
    "accuracy(1)"
   ]
  },
  {
   "cell_type": "code",
   "execution_count": 83,
   "metadata": {},
   "outputs": [],
   "source": [
    "import math\n",
    "\n",
    "class Rational:\n",
    "    def __init__(self, num, den):\n",
    "        \"\"\"Constructor.\"\"\"\n",
    "        hcf = math.gcd(num, den)\n",
    "        self.num = num // hcf\n",
    "        self.den = den // hcf\n",
    "\n",
    "    def __repr__(self):\n",
    "        \"\"\"Return string representation of a rational.\"\"\"\n",
    "        return str(self.num) + ' / ' + str(self.den)\n",
    "\n",
    "    def __mul__(self, rhs):\n",
    "        \"\"\"Return product of two rationals.\"\"\"\n",
    "        new_num = self.num * rhs.num\n",
    "        new_den = self.den * rhs.den\n",
    "        return Rational(new_num, new_den)\n",
    "    \n",
    "    def __add__(self, rhs):\n",
    "        \"\"\"\"Returns the result of adding two rationals together.\"\"\"\n",
    "        new_num = (self.num)*(rhs.den)+(rhs.num)*(self.den)\n",
    "        new_den = self.den*rhs.den\n",
    "        return Rational(new_num, new_den)\n",
    "\n",
    "    def __neg__(self):\n",
    "        \"\"\"\"Returns the negative of a fraction\"\"\"\n",
    "        new_num = -self.num\n",
    "        new_den = self.den\n",
    "        return Rational(new_num, new_den)\n",
    "\n",
    "    def __sub__(self, rhs):\n",
    "        \"\"\"Returns the result of subtracting two rationals\"\"\"\n",
    "        new_num = self.num*rhs.den-rhs.num*self.den\n",
    "        new_den = self.den*rhs.den\n",
    "        return Rational(new_num, new_den)\n",
    "\n",
    "    def __eq__(self, rhs):\n",
    "        \"\"\"\n",
    "        This function implements the == operator which tests for equality.\n",
    "        Two fractions are equal if their numerator and denominator are the same.\n",
    "        \"\"\"\n",
    "        return self.num == rhs.num and self.den == rhs.den\n",
    "\n",
    "    def __gt__(self, rhs):\n",
    "        \"\"\"\n",
    "        This function implements the > operator.\n",
    "        A fraction is bigger than another fraction if their difference is\n",
    "        positive, which is the case if the numerator of the difference is > 0.\n",
    "        \"\"\"\n",
    "        difference = self - rhs\n",
    "        return difference.num > 0\n",
    "\n",
    "    def floor(self):\n",
    "        \"\"\"Return `self` rounded down to nearest integer.\"\"\"\n",
    "        return self.num // self.den\n",
    "\n",
    "    def frac(self):\n",
    "        \"\"\"Return fractional part of `self`.\"\"\"\n",
    "        return self - Rational(self.floor(), 1)\n",
    "\n",
    "    def to_float(self):\n",
    "        \"\"\"Return `self` converted to a floating-point number.\"\"\"\n",
    "        return self.num / self.den\n",
    "    \n",
    "    def expand(self, base, n):\n",
    "        if self.num < 0:\n",
    "            self = -self\n",
    "            res = '-'\n",
    "        else:\n",
    "            res = ''\n",
    "        left = self.expand_integer_part(base)\n",
    "        right = self.expand_fractional_part(base, n)\n",
    "        for digit in left:\n",
    "            res += str(digit)\n",
    "        res += '.'\n",
    "        for digit in right:\n",
    "            res += str(digit)\n",
    "        res += ' (base ' + str(base) + ')'\n",
    "        return res\n",
    "\n",
    "    def expand_fractional_part(self, base, n):\n",
    "        r = self.frac()\n",
    "        rational_base = Rational(base,1)\n",
    "        digits = []\n",
    "        while len(digits) < n and r.num != 0:\n",
    "            base_times_r = rational_base * r\n",
    "            a = base_times_r.floor()\n",
    "            r = base_times_r.frac()\n",
    "            digits.append(a)\n",
    "        return digits\n",
    "\n",
    "    def expand_integer_part(self, base):\n",
    "        integer_part = self.floor()\n",
    "        if integer_part == 0:\n",
    "            return [0]\n",
    "        if integer_part > 0:\n",
    "            sign = 1\n",
    "        else:\n",
    "            sign = -1\n",
    "            integer_part *= -1\n",
    "        digits = []\n",
    "        while integer_part > 0:\n",
    "            digits.append(sign * (integer_part % base))\n",
    "            integer_part //= base\n",
    "        digits.reverse()\n",
    "        return digits\n",
    "\n",
    "\n"
   ]
  },
  {
   "cell_type": "code",
   "execution_count": 86,
   "metadata": {},
   "outputs": [],
   "source": [
    "def exp_taylor_2(x, n):\n",
    "    exp_approx = Rational(0,1)\n",
    "    for i in range(n):\n",
    "        exp_approx += Rational(x**i,factorial(i))\n",
    "        print(exp_approx)\n",
    "    return str('done')"
   ]
  },
  {
   "cell_type": "code",
   "execution_count": 87,
   "metadata": {},
   "outputs": [
    {
     "name": "stdout",
     "output_type": "stream",
     "text": [
      "1 / 1\n",
      "2 / 1\n",
      "5 / 2\n",
      "8 / 3\n",
      "65 / 24\n",
      "163 / 60\n",
      "1957 / 720\n",
      "685 / 252\n",
      "109601 / 40320\n",
      "98641 / 36288\n"
     ]
    },
    {
     "data": {
      "text/plain": [
       "'done'"
      ]
     },
     "execution_count": 87,
     "metadata": {},
     "output_type": "execute_result"
    }
   ],
   "source": [
    "exp_taylor_2(1,10)"
   ]
  },
  {
   "cell_type": "code",
   "execution_count": 88,
   "metadata": {},
   "outputs": [],
   "source": [
    "def exp_taylor_3(x,n):\n",
    "    while (exp_taylor(x,n+1)-exp_taylor(x,n)).expand(10,100)>Rational(1,10**100).expand(10,100):\n",
    "        n+=1\n",
    "    return n"
   ]
  },
  {
   "cell_type": "code",
   "execution_count": 89,
   "metadata": {},
   "outputs": [
    {
     "ename": "AttributeError",
     "evalue": "'float' object has no attribute 'expand'",
     "output_type": "error",
     "traceback": [
      "\u001b[1;31m---------------------------------------------------------------------------\u001b[0m",
      "\u001b[1;31mAttributeError\u001b[0m                            Traceback (most recent call last)",
      "\u001b[1;32m<ipython-input-89-2464739a0683>\u001b[0m in \u001b[0;36m<module>\u001b[1;34m\u001b[0m\n\u001b[1;32m----> 1\u001b[1;33m \u001b[0mexp_taylor_3\u001b[0m\u001b[1;33m(\u001b[0m\u001b[1;36m1\u001b[0m\u001b[1;33m,\u001b[0m\u001b[1;36m1\u001b[0m\u001b[1;33m)\u001b[0m\u001b[1;33m\u001b[0m\u001b[1;33m\u001b[0m\u001b[0m\n\u001b[0m",
      "\u001b[1;32m<ipython-input-88-6bc1c80c3524>\u001b[0m in \u001b[0;36mexp_taylor_3\u001b[1;34m(x, n)\u001b[0m\n\u001b[0;32m      1\u001b[0m \u001b[1;32mdef\u001b[0m \u001b[0mexp_taylor_3\u001b[0m\u001b[1;33m(\u001b[0m\u001b[0mx\u001b[0m\u001b[1;33m,\u001b[0m\u001b[0mn\u001b[0m\u001b[1;33m)\u001b[0m\u001b[1;33m:\u001b[0m\u001b[1;33m\u001b[0m\u001b[1;33m\u001b[0m\u001b[0m\n\u001b[1;32m----> 2\u001b[1;33m     \u001b[1;32mwhile\u001b[0m \u001b[1;33m(\u001b[0m\u001b[0mexp_taylor\u001b[0m\u001b[1;33m(\u001b[0m\u001b[0mx\u001b[0m\u001b[1;33m,\u001b[0m\u001b[0mn\u001b[0m\u001b[1;33m+\u001b[0m\u001b[1;36m1\u001b[0m\u001b[1;33m)\u001b[0m\u001b[1;33m-\u001b[0m\u001b[0mexp_taylor\u001b[0m\u001b[1;33m(\u001b[0m\u001b[0mx\u001b[0m\u001b[1;33m,\u001b[0m\u001b[0mn\u001b[0m\u001b[1;33m)\u001b[0m\u001b[1;33m)\u001b[0m\u001b[1;33m.\u001b[0m\u001b[0mexpand\u001b[0m\u001b[1;33m(\u001b[0m\u001b[1;36m10\u001b[0m\u001b[1;33m,\u001b[0m\u001b[1;36m100\u001b[0m\u001b[1;33m)\u001b[0m\u001b[1;33m>\u001b[0m\u001b[0mRational\u001b[0m\u001b[1;33m(\u001b[0m\u001b[1;36m1\u001b[0m\u001b[1;33m,\u001b[0m\u001b[1;36m10\u001b[0m\u001b[1;33m**\u001b[0m\u001b[1;36m100\u001b[0m\u001b[1;33m)\u001b[0m\u001b[1;33m.\u001b[0m\u001b[0mexpand\u001b[0m\u001b[1;33m(\u001b[0m\u001b[1;36m10\u001b[0m\u001b[1;33m,\u001b[0m\u001b[1;36m100\u001b[0m\u001b[1;33m)\u001b[0m\u001b[1;33m:\u001b[0m\u001b[1;33m\u001b[0m\u001b[1;33m\u001b[0m\u001b[0m\n\u001b[0m\u001b[0;32m      3\u001b[0m         \u001b[0mn\u001b[0m\u001b[1;33m+=\u001b[0m\u001b[1;36m1\u001b[0m\u001b[1;33m\u001b[0m\u001b[1;33m\u001b[0m\u001b[0m\n\u001b[0;32m      4\u001b[0m     \u001b[1;32mreturn\u001b[0m \u001b[0mn\u001b[0m\u001b[1;33m\u001b[0m\u001b[1;33m\u001b[0m\u001b[0m\n",
      "\u001b[1;31mAttributeError\u001b[0m: 'float' object has no attribute 'expand'"
     ]
    }
   ],
   "source": [
    "exp_taylor_3(1,1) #confused about how to show what number of terms is needed to establish the 100th digit of pi"
   ]
  },
  {
   "cell_type": "code",
   "execution_count": 14,
   "metadata": {},
   "outputs": [],
   "source": [
    "def pi_approx(n):\n",
    "    if n>2:\n",
    "        pi_approx = Rational(n-1,2*(n-1)+1)\n",
    "        while n-2>0:\n",
    "            pi_approx = (Rational(1,1)+pi_approx)*(Rational(n-2,2*(n-2)+1))\n",
    "            n-=1\n",
    "        pi_approx+=Rational(1,1)\n",
    "        return pi_approx*Rational(2,1)\n",
    "    if n==1:\n",
    "        return Rational(1,1)*Rational(2,1)\n",
    "    if n==2:\n",
    "        return (Rational(1,1)+Rational(1,3))*Rational(2,1)\n",
    "        "
   ]
  },
  {
   "cell_type": "code",
   "execution_count": 15,
   "metadata": {},
   "outputs": [],
   "source": [
    "def pi_approx_2(n,x):\n",
    "    while (pi_approx(n+1)-pi_approx(n)).expand(10,x)>Rational(1,10**x).expand(10,x):\n",
    "        n+=1\n",
    "    return n"
   ]
  },
  {
   "cell_type": "code",
   "execution_count": 16,
   "metadata": {},
   "outputs": [
    {
     "data": {
      "text/plain": [
       "163"
      ]
     },
     "execution_count": 16,
     "metadata": {},
     "output_type": "execute_result"
    }
   ],
   "source": [
    "pi_approx_2(1,50)"
   ]
  },
  {
   "cell_type": "code",
   "execution_count": 17,
   "metadata": {},
   "outputs": [
    {
     "data": {
      "text/plain": [
       "'3.14159265358979323846264338327950288419716939937509 (base 10)'"
      ]
     },
     "execution_count": 17,
     "metadata": {},
     "output_type": "execute_result"
    }
   ],
   "source": [
    "pi_approx(164).expand(10,50)"
   ]
  },
  {
   "cell_type": "code",
   "execution_count": 18,
   "metadata": {},
   "outputs": [
    {
     "data": {
      "text/plain": [
       "'3.14159265358979323846264338327950288419716939937509 (base 10)'"
      ]
     },
     "execution_count": 18,
     "metadata": {},
     "output_type": "execute_result"
    }
   ],
   "source": [
    "pi_approx(165).expand(10,50)"
   ]
  },
  {
   "cell_type": "code",
   "execution_count": 16,
   "metadata": {},
   "outputs": [
    {
     "data": {
      "text/plain": [
       "'3.14159265358979323846264338327950288419716939937510 (base 10)'"
      ]
     },
     "execution_count": 16,
     "metadata": {},
     "output_type": "execute_result"
    }
   ],
   "source": [
    "pi_approx(166).expand(10,50) #hence 166 terms to establish that 50th digit of pi is 0"
   ]
  },
  {
   "cell_type": "code",
   "execution_count": 17,
   "metadata": {},
   "outputs": [
    {
     "data": {
      "text/plain": [
       "'3.14159265358979323846264338327950288419716939937510 (base 10)'"
      ]
     },
     "execution_count": 17,
     "metadata": {},
     "output_type": "execute_result"
    }
   ],
   "source": [
    "pi_approx(170).expand(10,50)"
   ]
  },
  {
   "cell_type": "code",
   "execution_count": 52,
   "metadata": {},
   "outputs": [],
   "source": [
    "def df(n):\n",
    "    df=1\n",
    "    i=1\n",
    "    while i<=n:\n",
    "        df=df*(i)\n",
    "        i+=2\n",
    "    return df"
   ]
  },
  {
   "cell_type": "code",
   "execution_count": 79,
   "metadata": {},
   "outputs": [
    {
     "data": {
      "text/plain": [
       "15"
      ]
     },
     "execution_count": 79,
     "metadata": {},
     "output_type": "execute_result"
    }
   ],
   "source": [
    "df(5)"
   ]
  },
  {
   "cell_type": "code",
   "execution_count": 80,
   "metadata": {},
   "outputs": [],
   "source": [
    "def Ramanujan_pi(n):\n",
    "    Ramanujan_pi_approx = Rational(1123,882)\n",
    "    for i in range(1,n):\n",
    "        Ramanujan_pi_approx += Rational(((-1)**n)*(1123+21460*n)*df(2*n-1)*df(4*n-1),(822**(2*n+1))*(32**n)*(factorial(n)**3))\n",
    "    return Ramanujan_pi_approx*Rational(1,4)"
   ]
  },
  {
   "cell_type": "code",
   "execution_count": 76,
   "metadata": {},
   "outputs": [
    {
     "data": {
      "text/plain": [
       "'0.31831065759637188208616780045351473922902494331065 (base 10)'"
      ]
     },
     "execution_count": 76,
     "metadata": {},
     "output_type": "execute_result"
    }
   ],
   "source": [
    "Ramanujan_pi(900).expand(10,50) #struggled to convert the approximation into something explicitly involving pi"
   ]
  }
 ],
 "metadata": {
  "kernelspec": {
   "display_name": "Python 3",
   "language": "python",
   "name": "python3"
  },
  "language_info": {
   "codemirror_mode": {
    "name": "ipython",
    "version": 3
   },
   "file_extension": ".py",
   "mimetype": "text/x-python",
   "name": "python",
   "nbconvert_exporter": "python",
   "pygments_lexer": "ipython3",
   "version": "3.8.3"
  }
 },
 "nbformat": 4,
 "nbformat_minor": 4
}

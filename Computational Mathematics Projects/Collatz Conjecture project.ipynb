{
 "cells": [
  {
   "cell_type": "code",
   "execution_count": 22,
   "metadata": {},
   "outputs": [
    {
     "name": "stdout",
     "output_type": "stream",
     "text": [
      "931 6 27 25 0 0 0\n"
     ]
    },
    {
     "data": {
      "image/png": "[encoded data removed]",
      "text/plain": [
       "<Figure size 432x288 with 1 Axes>"
      ]
     },
     "metadata": {
      "needs_background": "light"
     },
     "output_type": "display_data"
    }
   ],
   "source": [
    "import matplotlib.pyplot as plt\n",
    "n=1000\n",
    "numbers_list = []\n",
    "for n in list(range(3,n)):\n",
    "    while n>1:\n",
    "        numbers_list.append(n)\n",
    "        if n%2 == 0:\n",
    "            n = n//2\n",
    "        else:\n",
    "            n = 3*n+1\n",
    "list_1 = numbers_list.count(5)\n",
    "list_2 = numbers_list.count(21)\n",
    "list_3 = numbers_list.count(85)\n",
    "list_4 = numbers_list.count(341)\n",
    "list_5 = numbers_list.count(1365)\n",
    "list_6 = numbers_list.count(5461)\n",
    "list_7 = numbers_list.count(21845)\n",
    "\n",
    "\n",
    "numbers_1 = (list_1, list_2, list_3, list_4, list_5, list_6, list_7)           \n",
    "numbers_2 = ('5','21', '85', '341', '1365', '5461', '21845') \n",
    "\n",
    "plt.bar(numbers_2, numbers_1)\n",
    "print(list_1, list_2, list_3, list_4, list_5, list_6, list_7)"
   ]
  },
  {
   "cell_type": "code",
   "execution_count": null,
   "metadata": {},
   "outputs": [],
   "source": []
  }
 ],
 "metadata": {
  "kernelspec": {
   "display_name": "Python 3",
   "language": "python",
   "name": "python3"
  },
  "language_info": {
   "codemirror_mode": {
    "name": "ipython",
    "version": 3
   },
   "file_extension": ".py",
   "mimetype": "text/x-python",
   "name": "python",
   "nbconvert_exporter": "python",
   "pygments_lexer": "ipython3",
   "version": "3.8.3"
  }
 },
 "nbformat": 4,
 "nbformat_minor": 4
}

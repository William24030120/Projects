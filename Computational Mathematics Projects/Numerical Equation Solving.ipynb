{
 "cells": [
  {
   "cell_type": "code",
   "execution_count": 9,
   "metadata": {},
   "outputs": [],
   "source": [
    "import matplotlib.pyplot as plt\n",
    "\n",
    "\n",
    "def bisect(f,left,right,*tol):\n",
    "    i=0\n",
    "    count_1 = []\n",
    "    for j in tol:\n",
    "        while abs(right-left)>j:\n",
    "            if f(right)>f(left):\n",
    "                if f((left+right)/2)>0:\n",
    "                    right = (left+right)/2\n",
    "                    i+=1\n",
    "                if f((left+right)/2)<0:\n",
    "                    left = (left+right)/2\n",
    "                    i+=1\n",
    "            if f(left)>f(right):\n",
    "                if f((left+right)/2)>0:\n",
    "                    left = (left+right)/2\n",
    "                    i+=1\n",
    "                if f((left+right)/2)<0:\n",
    "                    right = (left+right)/2\n",
    "                    i+=1\n",
    "        count_1.append(i)\n",
    "    i=0\n",
    "    return count_1\n"
   ]
  },
  {
   "cell_type": "code",
   "execution_count": 10,
   "metadata": {},
   "outputs": [],
   "source": [
    "def newton(f,g,x_0,*tol):\n",
    "    i=0\n",
    "    count_2 = []\n",
    "    for j in tol:\n",
    "        while abs(f(x_0))>j:\n",
    "            x_new = x_0-(f(x_0)/g(x_0))\n",
    "            x_0 = x_new\n",
    "            i+=1\n",
    "        count_2.append(i)\n",
    "    i=0\n",
    "    return count_2"
   ]
  },
  {
   "cell_type": "code",
   "execution_count": 11,
   "metadata": {},
   "outputs": [],
   "source": [
    "def secant(f,x_0,x_1,*tol):\n",
    "    i=0\n",
    "    count_3 = []\n",
    "    for j in tol:\n",
    "        while abs(f(x_1))>j:\n",
    "            x_new = x_1-f(x_1)*((x_1-x_0)/(f(x_1)-f(x_0)))\n",
    "            x_0 = x_1\n",
    "            x_1 = x_new\n",
    "            i+=1\n",
    "        count_3.append(i)\n",
    "    i=0\n",
    "    return count_3"
   ]
  },
  {
   "cell_type": "code",
   "execution_count": 12,
   "metadata": {},
   "outputs": [
    {
     "data": {
      "text/plain": [
       "[5, 7, 11, 14, 17, 20, 24, 27, 30, 34]"
      ]
     },
     "execution_count": 12,
     "metadata": {},
     "output_type": "execute_result"
    }
   ],
   "source": [
    "tol = [10**-1,10**-2,10**-3,10**-4,10**-5,10**-6,10**-7,10**-8,10**-9,10**-10]\n",
    "bisect(lambda x:x**3-1/2,0,1,*tol)"
   ]
  },
  {
   "cell_type": "code",
   "execution_count": 13,
   "metadata": {},
   "outputs": [
    {
     "data": {
      "text/plain": [
       "[3, 4, 5, 6, 6, 7, 7, 7, 7, 8]"
      ]
     },
     "execution_count": 13,
     "metadata": {},
     "output_type": "execute_result"
    }
   ],
   "source": [
    "tol\n",
    "secant(lambda x:x**3-1/2,0,1,*tol)"
   ]
  },
  {
   "cell_type": "code",
   "execution_count": 14,
   "metadata": {},
   "outputs": [
    {
     "data": {
      "text/plain": [
       "[1, 2, 3, 3, 3, 4, 4, 4, 4, 4]"
      ]
     },
     "execution_count": 14,
     "metadata": {},
     "output_type": "execute_result"
    }
   ],
   "source": [
    "tol \n",
    "newton(lambda x:x**3-1/2, lambda x:3*x**2,1,*tol)"
   ]
  },
  {
   "cell_type": "code",
   "execution_count": 18,
   "metadata": {},
   "outputs": [
    {
     "data": {
      "text/plain": [
       "[<matplotlib.lines.Line2D at 0x20f0a626b20>]"
      ]
     },
     "execution_count": 18,
     "metadata": {},
     "output_type": "execute_result"
    },
    {
     "data": {
      "image/png": "[encoded data removed]",
      "text/plain": [
       "<Figure size 432x288 with 1 Axes>"
      ]
     },
     "metadata": {
      "needs_background": "light"
     },
     "output_type": "display_data"
    }
   ],
   "source": [
    "count_1 = [5,7,11,14,17,20,24,27,30,34]\n",
    "count_2 = [3,4,5,6,6,7,7,7,7,8]\n",
    "count_3 = [1,2,3,3,3,4,4,4,4,4]\n",
    "plt.figure()\n",
    "plt.semilogx(tol,count_1)\n",
    "plt.semilogx(tol,count_2)\n",
    "plt.semilogx(tol,count_3)"
   ]
  },
  {
   "cell_type": "code",
   "execution_count": null,
   "metadata": {},
   "outputs": [],
   "source": []
  }
 ],
 "metadata": {
  "kernelspec": {
   "display_name": "Python 3",
   "language": "python",
   "name": "python3"
  },
  "language_info": {
   "codemirror_mode": {
    "name": "ipython",
    "version": 3
   },
   "file_extension": ".py",
   "mimetype": "text/x-python",
   "name": "python",
   "nbconvert_exporter": "python",
   "pygments_lexer": "ipython3",
   "version": "3.8.3"
  }
 },
 "nbformat": 4,
 "nbformat_minor": 4
}

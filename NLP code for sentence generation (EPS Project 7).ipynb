{
 "cells": [
  {
   "cell_type": "code",
   "execution_count": 1,
   "metadata": {},
   "outputs": [],
   "source": [
    "import gen_from_meaning\n",
    "from gen_from_meaning import*\n",
    "lexvars = gen_from_meaning.load_lexvars('config2.example.json')\n"
   ]
  },
  {
   "cell_type": "code",
   "execution_count": 2,
   "metadata": {},
   "outputs": [],
   "source": [
    "import gensys_helpers"
   ]
  },
  {
   "cell_type": "code",
   "execution_count": 3,
   "metadata": {},
   "outputs": [],
   "source": [
    "import get_event_population"
   ]
  },
  {
   "cell_type": "code",
   "execution_count": 4,
   "metadata": {},
   "outputs": [],
   "source": [
    "import get_lexicon"
   ]
  },
  {
   "cell_type": "code",
   "execution_count": 5,
   "metadata": {},
   "outputs": [],
   "source": [
    "from gen_from_meaning import *"
   ]
  },
  {
   "cell_type": "code",
   "execution_count": 6,
   "metadata": {},
   "outputs": [],
   "source": [
    "! gen_from_meaning.py --setname sent --setdir . --configfile config1.example.json --mpo 10"
   ]
  },
  {
   "cell_type": "code",
   "execution_count": 7,
   "metadata": {},
   "outputs": [
    {
     "data": {
      "text/plain": [
       "'C:\\\\Users\\\\super'"
      ]
     },
     "execution_count": 7,
     "metadata": {},
     "output_type": "execute_result"
    }
   ],
   "source": [
    "os.getcwd()"
   ]
  },
  {
   "cell_type": "code",
   "execution_count": null,
   "metadata": {},
   "outputs": [],
   "source": [
    "def main():\n",
    "    gram = import_grammar('grammar_feature')\n",
    "    nouns,verbs,frames,inflections,nxlist = load_lexvars('gensys_lexvars.json')\n",
    "\n",
    "    parser = argparse.ArgumentParser()\n",
    "    parser.add_argument('--setdir')\n",
    "    parser.add_argument('--setname')\n",
    "    parser.add_argument('--configfile')\n",
    "    parser.add_argument('--mpo',type=int,default=None)\n",
    "    parser.add_argument('--adv',type=int,default=None)\n",
    "    args = parser.parse_args()\n",
    "\n",
    "    lexvar_package = (nouns,verbs,inflections,nxlist)\n",
    "\n",
    "    with open(args.configfile) as confFile:\n",
    "        config = json.load(confFile)\n",
    "\n",
    "    # train_lexvar_package = (nouns,verbs,inflections,train_nx)\n",
    "    # test_lexvar_package = (nouns,verbs,inflections,test_nx)\n",
    "\n",
    "    write_set(args.setname,args.setdir,config,args.mpo,lexvar_package,nx=args.adv)\n",
    "#main()\n",
    "\n",
    "##python gen_from_meaning.py --setname sent --setdir . --configfile config1.example.json --mpo 10"
   ]
  },
  {
   "cell_type": "code",
   "execution_count": 18,
   "metadata": {},
   "outputs": [
    {
     "name": "stdout",
     "output_type": "stream",
     "text": [
      "verbs: {'intransitive': ['sleep', 'dance', 'run', 'shout', 'resign'], 'transitive': ['recommend', 'call', 'follow', 'help', 'support', 'watch', 'contact', 'hit', 'meet', 'hate', 'like', 'believe', 'love', 'observe', 'avoid', 'advise']}\n"
     ]
    }
   ],
   "source": [
    "gram = import_grammar('grammar_feature')\n",
    "nouns,verbs,frames,inflections,nxlist = load_lexvars('gensys_lexvars.json')\n",
    "\n",
    "lexvar_package = (nouns,verbs,inflections,nxlist)\n",
    "\n",
    "configfile = 'config1.example.json'\n",
    "\n",
    "with open(configfile) as confFile:\n",
    "        config = json.load(confFile)\n",
    "\n",
    "        \n",
    "print(\"verbs:\", verbs) \n",
    "gen_from_meaning.verbs = verbs\n",
    "gen_from_meaning.gram = gram\n",
    "gen_from_meaning.inflections = inflections\n",
    "gen_from_meaning.nxlist = nxlist\n",
    "\n",
    "write_set( 'sent', '.' , config, 10 ,lexvar_package, nx=0)"
   ]
  },
  {
   "cell_type": "code",
   "execution_count": 19,
   "metadata": {},
   "outputs": [
    {
     "name": "stdout",
     "output_type": "stream",
     "text": [
      "\n",
      "## Relative clauses: {'agent': 'none'}\n",
      "## RC roles: {'agent': 'none'}\n",
      "## Event insertion: {non-event}\n",
      "## Insertion voice: {None}\n",
      "\n",
      "sent0\tthe doctor does not dance\n",
      "sent1\tthe assistants were not running\n",
      "sent2\tthe officers were sleeping\n",
      "sent3\tthe men are running\n",
      "sent4\tthe scientist was running\n",
      "sent5\tthe senators ran\n",
      "sent6\tthe judge is not sleeping\n",
      "sent7\tthe scientist slept\n",
      "sent8\tthe lawyers were resigning\n",
      "sent9\tthe assistants are running\n",
      "\n",
      "## Relative clauses: {'agent': 'transitive'}\n",
      "## RC roles: {'agent': 'patient'}\n",
      "## Event insertion: {non-event}\n",
      "## Insertion voice: {None}\n",
      "\n",
      "sent10\tthe judges that the senators were not supporting were not dancing\n",
      "sent11\tthe professor that is recommended by the boy dances\n",
      "sent12\tthe senators that were being called by the secretaries are running\n",
      "sent13\tthe secretaries that the senator meets ran\n",
      "sent14\tthe officer that is supported by the girls resigned\n",
      "sent15\tthe boys that the professor follows are sleeping\n",
      "sent16\tthe students that the girls were believing do not sleep\n",
      "sent17\tthe boy that the women hit sleeps\n",
      "sent18\tthe woman that was helped by the assistant is running\n",
      "sent19\tthe lawyer that the girls love did not resign\n",
      "\n",
      "## Relative clauses: {'agent': 'transitive'}\n",
      "## RC roles: {'agent': 'agent'}\n",
      "## Event insertion: {non-event}\n",
      "## Insertion voice: {None}\n",
      "\n",
      "sent20\tthe senator that was not watching the student was not dancing\n",
      "sent21\tthe bankers that watched the assistant do not run\n",
      "sent22\tthe girls that were recommending the presidents did not resign\n",
      "sent23\tthe men that followed the doctor are resigning\n",
      "sent24\tthe boy that observed the scientists was not running\n",
      "sent25\tthe presidents that did not contact the girl danced\n",
      "sent26\tthe child that was observing the officer was dancing\n",
      "sent27\tthe senators that watched the assistants ran\n",
      "sent28\tthe child that contacts the secretaries shouted\n",
      "sent29\tthe girls that are liking the students were shouting\n",
      "\n",
      "## Relative clauses: {'agent': 'intransitive'}\n",
      "## RC roles: {'agent': 'agent'}\n",
      "## Event insertion: {non-event}\n",
      "## Insertion voice: {None}\n",
      "\n",
      "sent30\tthe bankers that run are not sleeping\n",
      "sent31\tthe officer that sleeps did not dance\n",
      "sent32\tthe assistant that was dancing is not resigning\n",
      "sent33\tthe secretary that does not resign shouts\n",
      "sent34\tthe men that danced are not sleeping\n",
      "sent35\tthe assistant that shouts did not dance\n",
      "sent36\tthe assistant that was sleeping ran\n",
      "sent37\tthe doctors that are running are resigning\n",
      "sent38\tthe bankers that ran are dancing\n",
      "sent39\tthe officer that was sleeping was resigning\n",
      "\n",
      "## Relative clauses: {'agent': 'none', 'patient': 'none'}\n",
      "## RC roles: {'agent': 'none', 'patient': 'none'}\n",
      "## Event insertion: {non-event}\n",
      "## Insertion voice: {None}\n",
      "\n",
      "sent40\tthe students are not liked by the boys\n",
      "sent41\tthe secretary is being watched by the senator\n",
      "sent42\tthe student helped the assistant\n",
      "sent43\tthe secretary was being believed by the lawyer\n",
      "sent44\tthe assistants are supporting the secretaries\n",
      "sent45\tthe men were not believed by the president\n",
      "sent46\tthe women did not love the senators\n",
      "sent47\tthe scientist called the boy\n",
      "sent48\tthe scientists were not watching the child\n",
      "sent49\tthe presidents are liking the student\n",
      "\n",
      "## Relative clauses: {'agent': 'none', 'patient': 'transitive'}\n",
      "## RC roles: {'agent': 'none', 'patient': 'patient'}\n",
      "## Event insertion: {non-event}\n",
      "## Insertion voice: {None}\n",
      "\n",
      "sent50\tthe doctors that are not called by the senators are not being hated by the scientists\n",
      "sent51\tthe lawyer that is contacted by the judge is not being hit by the assistants\n",
      "sent52\tthe doctors are not avoiding the children that are being contacted by the officers\n",
      "sent53\tthe girl was not liking the judges that are being recommended by the assistants\n",
      "sent54\tthe president that is being helped by the scientist is not being hated by the officers\n",
      "sent55\tthe girls that the assistant recommends were being met by the scientists\n",
      "sent56\tthe assistants were not believing the women that were observed by the scientist\n",
      "sent57\tthe girl that the judges are hitting is not being watched by the woman\n",
      "sent58\tthe boys that were recommended by the men were being helped by the judges\n",
      "sent59\tthe senators were not believing the girls that are being observed by the women\n",
      "\n",
      "## Relative clauses: {'agent': 'none', 'patient': 'transitive'}\n",
      "## RC roles: {'agent': 'none', 'patient': 'agent'}\n",
      "## Event insertion: {non-event}\n",
      "## Insertion voice: {None}\n",
      "\n",
      "sent60\tthe girl that advises the boys is not being followed by the scientist\n",
      "sent61\tthe officer that does not watch the professors is being called by the child\n",
      "sent62\tthe boys that hated the scientist were not being supported by the lawyer\n",
      "sent63\tthe banker contacts the lawyer that did not support the judge\n",
      "sent64\tthe girl was not calling the scientist that is helping the children\n",
      "sent65\tthe student that was recommending the boy is not being contacted by the women\n",
      "sent66\tthe secretary is not observing the girls that meet the professor\n",
      "sent67\tthe women do not advise the child that supports the girl\n",
      "sent68\tthe secretaries that are observing the woman were being avoided by the lawyer\n",
      "sent69\tthe bankers that are hitting the president were not being hated by the lawyers\n",
      "\n",
      "## Relative clauses: {'agent': 'none', 'patient': 'intransitive'}\n",
      "## RC roles: {'agent': 'none', 'patient': 'agent'}\n",
      "## Event insertion: {non-event}\n",
      "## Insertion voice: {None}\n",
      "\n",
      "sent70\tthe president supports the students that danced\n",
      "sent71\tthe president that danced was not being observed by the judges\n",
      "sent72\tthe secretaries that were not resigning are liked by the officers\n",
      "sent73\tthe banker did not observe the doctor that runs\n",
      "sent74\tthe children that were dancing were being liked by the secretaries\n",
      "sent75\tthe officers that sleep were not helped by the boy\n",
      "sent76\tthe assistants that do not shout are being hit by the girl\n",
      "sent77\tthe secretary that is not dancing was advised by the bankers\n",
      "sent78\tthe president advises the man that did not resign\n",
      "sent79\tthe officers that did not sleep are not liked by the boy\n",
      "\n",
      "## Relative clauses: {'agent': 'transitive', 'patient': 'none'}\n",
      "## RC roles: {'agent': 'patient', 'patient': 'none'}\n",
      "## Event insertion: {non-event}\n",
      "## Insertion voice: {None}\n",
      "\n",
      "sent80\tthe officers that are loved by the doctor do not hit the lawyer\n",
      "sent81\tthe scientist is not contacted by the officer that was not being supported by the senator\n",
      "sent82\tthe judge that the girl was hitting is avoiding the assistant\n",
      "sent83\tthe girl was not watched by the children that were followed by the banker\n",
      "sent84\tthe officers were not being supported by the banker that was being loved by the women\n",
      "sent85\tthe senators that are being advised by the president observed the doctor\n",
      "sent86\tthe girl that the child was following met the officers\n",
      "sent87\tthe bankers that the president loves are watching the officers\n",
      "sent88\tthe judge that is met by the doctor called the men\n",
      "sent89\tthe students are not being watched by the lawyers that are being liked by the president\n",
      "\n",
      "## Relative clauses: {'agent': 'transitive', 'patient': 'none'}\n",
      "## RC roles: {'agent': 'agent', 'patient': 'none'}\n",
      "## Event insertion: {non-event}\n",
      "## Insertion voice: {None}\n",
      "\n",
      "sent90\tthe doctors that contacted the banker followed the girls\n",
      "sent91\tthe boys that were not helping the assistant were loving the judge\n",
      "sent92\tthe scientists are not being followed by the doctors that are observing the girls\n",
      "sent93\tthe scientist that hits the senators did not call the officer\n",
      "sent94\tthe president was not being contacted by the officer that loved the men\n",
      "sent95\tthe men were being recommended by the senator that loves the assistant\n",
      "sent96\tthe president that was following the professors was observing the student\n",
      "sent97\tthe judge is not helped by the man that avoided the assistant\n",
      "sent98\tthe scientists are being supported by the lawyer that is recommending the doctor\n",
      "sent99\tthe doctors that did not follow the scientist were loving the lawyers\n",
      "\n",
      "## Relative clauses: {'agent': 'intransitive', 'patient': 'none'}\n",
      "## RC roles: {'agent': 'agent', 'patient': 'none'}\n",
      "## Event insertion: {non-event}\n",
      "## Insertion voice: {None}\n",
      "\n",
      "sent100\tthe women that slept were not supporting the professor\n",
      "sent101\tthe students are being avoided by the boy that danced\n",
      "sent102\tthe scientists were being called by the banker that danced\n",
      "sent103\tthe children that do not dance called the judge\n",
      "sent104\tthe men are being observed by the senator that ran\n",
      "sent105\tthe professor is being called by the bankers that ran\n",
      "sent106\tthe child was not observed by the doctor that shouted\n",
      "sent107\tthe president that sleeps is watching the banker\n",
      "sent108\tthe assistant that shouts was not watching the students\n",
      "sent109\tthe banker was being avoided by the man that resigns\n",
      "\n",
      "Number of sentences: 110\n",
      "\n"
     ]
    }
   ],
   "source": [
    "with open('sent.txt') as f:\n",
    "    output = f.read()\n",
    "print(output)"
   ]
  },
  {
   "cell_type": "code",
   "execution_count": null,
   "metadata": {},
   "outputs": [],
   "source": []
  }
 ],
 "metadata": {
  "kernelspec": {
   "display_name": "Python 3",
   "language": "python",
   "name": "python3"
  },
  "language_info": {
   "codemirror_mode": {
    "name": "ipython",
    "version": 3
   },
   "file_extension": ".py",
   "mimetype": "text/x-python",
   "name": "python",
   "nbconvert_exporter": "python",
   "pygments_lexer": "ipython3",
   "version": "3.8.3"
  }
 },
 "nbformat": 4,
 "nbformat_minor": 4
}
